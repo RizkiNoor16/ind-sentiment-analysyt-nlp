{
  "nbformat": 4,
  "nbformat_minor": 0,
  "metadata": {
    "colab": {
      "provenance": [],
      "authorship_tag": "ABX9TyO03XgU3aJ4nngNo6wzfOH+",
      "include_colab_link": true
    },
    "kernelspec": {
      "name": "python3",
      "display_name": "Python 3"
    },
    "language_info": {
      "name": "python"
    },
    "gpuClass": "standard"
  },
  "cells": [
    {
      "cell_type": "markdown",
      "metadata": {
        "id": "view-in-github",
        "colab_type": "text"
      },
      "source": [
        "<a href=\"https://colab.research.google.com/github/RizkiNoor16/ind-sentiment-analysyt-nlp/blob/main/Preprocessing_%26_Exploration_data_Analytics.ipynb\" target=\"_parent\"><img src=\"https://colab.research.google.com/assets/colab-badge.svg\" alt=\"Open In Colab\"/></a>"
      ]
    },
    {
      "cell_type": "code",
      "execution_count": 1,
      "metadata": {
        "colab": {
          "base_uri": "https://localhost:8080/"
        },
        "id": "p13jN68cJ0H_",
        "outputId": "0d198dac-766d-4abe-ee84-3aa7a9950f3e"
      },
      "outputs": [
        {
          "output_type": "stream",
          "name": "stdout",
          "text": [
            "NVIDIA-SMI has failed because it couldn't communicate with the NVIDIA driver. Make sure that the latest NVIDIA driver is installed and running.\n",
            "\n"
          ]
        }
      ],
      "source": [
        "# Chek GPU\n",
        "!nvidia-smi"
      ]
    },
    {
      "cell_type": "code",
      "source": [
        "!git clone https://github.com/Ricco48/Emotion-Dataset-from-Indonesian-Public-Opinion.git\n",
        "!ls Emotion-Dataset-from-Indonesian-Public-Opinion"
      ],
      "metadata": {
        "colab": {
          "base_uri": "https://localhost:8080/"
        },
        "id": "Xk9VASMmLCKH",
        "outputId": "18423ca9-f2bc-4ddc-ecde-eae34bc46df7"
      },
      "execution_count": 2,
      "outputs": [
        {
          "output_type": "stream",
          "name": "stdout",
          "text": [
            "fatal: destination path 'Emotion-Dataset-from-Indonesian-Public-Opinion' already exists and is not an empty directory.\n",
            "'Emotion Dataset from Indonesian Public Opinion'   LICENSE   README.md\n"
          ]
        }
      ]
    },
    {
      "cell_type": "code",
      "source": [
        "data_dir ='/content/Emotion-Dataset-from-Indonesian-Public-Opinion/Emotion Dataset from Indonesian Public Opinion/'"
      ],
      "metadata": {
        "id": "oWCWaRuUOt7U"
      },
      "execution_count": 3,
      "outputs": []
    },
    {
      "cell_type": "code",
      "source": [
        "import os\n",
        "filenames = [data_dir + filenames for filenames in os.listdir(data_dir)]\n",
        "filenames"
      ],
      "metadata": {
        "colab": {
          "base_uri": "https://localhost:8080/"
        },
        "id": "JF10I617PGym",
        "outputId": "d7fda1fe-5b4e-45d8-e759-13e0c9e0eb64"
      },
      "execution_count": 4,
      "outputs": [
        {
          "output_type": "execute_result",
          "data": {
            "text/plain": [
              "['/content/Emotion-Dataset-from-Indonesian-Public-Opinion/Emotion Dataset from Indonesian Public Opinion/LoveData.csv',\n",
              " '/content/Emotion-Dataset-from-Indonesian-Public-Opinion/Emotion Dataset from Indonesian Public Opinion/FearData.csv',\n",
              " '/content/Emotion-Dataset-from-Indonesian-Public-Opinion/Emotion Dataset from Indonesian Public Opinion/AngerData.csv',\n",
              " '/content/Emotion-Dataset-from-Indonesian-Public-Opinion/Emotion Dataset from Indonesian Public Opinion/SadData.csv',\n",
              " '/content/Emotion-Dataset-from-Indonesian-Public-Opinion/Emotion Dataset from Indonesian Public Opinion/NeutralData.csv',\n",
              " '/content/Emotion-Dataset-from-Indonesian-Public-Opinion/Emotion Dataset from Indonesian Public Opinion/JoyData.csv']"
            ]
          },
          "metadata": {},
          "execution_count": 4
        }
      ]
    },
    {
      "cell_type": "code",
      "source": [
        "def get_lines(filename):\n",
        "  with open(filename, \"r\") as f:\n",
        "    return f.readlines()"
      ],
      "metadata": {
        "id": "bU8TxBVNU-ZF"
      },
      "execution_count": 5,
      "outputs": []
    },
    {
      "cell_type": "code",
      "source": [
        "love_line = get_lines(data_dir + 'AngerData.csv')\n",
        "love_line[:5]"
      ],
      "metadata": {
        "colab": {
          "base_uri": "https://localhost:8080/"
        },
        "id": "lBSssjQpVq4W",
        "outputId": "c85cbc81-b7af-45cf-aad1-d11361e99724"
      },
      "execution_count": 6,
      "outputs": [
        {
          "output_type": "execute_result",
          "data": {
            "text/plain": [
              "['Tweet\\tLabel\\n',\n",
              " 'pagi2 udah di buat emosi :)\\tAnger\\n',\n",
              " 'kok stabilitas negara, memange 10 thn negara tdk aman, bahkan sby menyuburkan ormas2 radikal, intoleran, teroris, yg berafiliasi ke partai tertentu..narasi klhtn intelektual tp bodoh..\\tAnger\\n',\n",
              " 'dah lah emosi mulu liat emyu\\tAnger\\n',\n",
              " 'aib? bodoh benar! sebelum kata aib itu muncul, terlebih dahulu sudah ada tindakan. yakni kekejian! jangan kau sembunyikan caramu menelaah masalah. semisal anak perempuanmu ditempeleng! apa kau juga setuju untuk dia bersikap bungkam? melapor polisi adl benar. lantas apa bedanya\\tAnger\\n']"
            ]
          },
          "metadata": {},
          "execution_count": 6
        }
      ]
    },
    {
      "cell_type": "code",
      "source": [
        "anger_path = '/content/Emotion-Dataset-from-Indonesian-Public-Opinion/Emotion Dataset from Indonesian Public Opinion/AngerData.csv'\n",
        "fear_path = '/content/Emotion-Dataset-from-Indonesian-Public-Opinion/Emotion Dataset from Indonesian Public Opinion/FearData.csv'\n",
        "joy_path = '/content/Emotion-Dataset-from-Indonesian-Public-Opinion/Emotion Dataset from Indonesian Public Opinion/JoyData.csv'\n",
        "love_path = '/content/Emotion-Dataset-from-Indonesian-Public-Opinion/Emotion Dataset from Indonesian Public Opinion/LoveData.csv'\n",
        "neutral_path = '/content/Emotion-Dataset-from-Indonesian-Public-Opinion/Emotion Dataset from Indonesian Public Opinion/NeutralData.csv'\n",
        "sad_path = '/content/Emotion-Dataset-from-Indonesian-Public-Opinion/Emotion Dataset from Indonesian Public Opinion/SadData.csv'"
      ],
      "metadata": {
        "id": "OxUgS_FCWyv1"
      },
      "execution_count": 7,
      "outputs": []
    },
    {
      "cell_type": "code",
      "source": [
        "import pandas as pd\n",
        "fear_df=pd.read_csv(fear_path, sep='\\t' )\n",
        "anger_df = pd.read_csv(anger_path, sep ='\\t')\n",
        "joy_df = pd.read_csv(joy_path, sep='\\t')\n",
        "love_df = pd.read_csv(love_path, sep='\\t')\n",
        "neutral_df = pd.read_csv(neutral_path, sep='\\t')\n",
        "sad_df = pd.read_csv(sad_path, sep= '\\t')\n",
        "\n",
        "sample_df = pd.concat([fear_df, anger_df, joy_df, love_df, neutral_df, sad_df])\n",
        "sample_df[:10]"
      ],
      "metadata": {
        "colab": {
          "base_uri": "https://localhost:8080/",
          "height": 363
        },
        "id": "lRAV6iZ5REMQ",
        "outputId": "e4f014ad-2033-4ae3-8bae-55265c4d48f8"
      },
      "execution_count": 8,
      "outputs": [
        {
          "output_type": "execute_result",
          "data": {
            "text/plain": [
              "                                               Tweet Label\n",
              "0  trs barusan dia reach out aku trs minta tolong...  Fear\n",
              "1  sumpah ini receh bgt dan not bts related. cm j...  Fear\n",
              "2  ragu utk bisa beli barang tu karn harganya bis...  Fear\n",
              "3  bisa gak sih langsung tanggal 11 aja gausah ad...  Fear\n",
              "4  iya kaan yg lain suka pada coba pd gpp tp tete...  Fear\n",
              "5  eh sumpah gw takut bangett. serem bangett itu ...  Fear\n",
              "6  namnjim lag like like nya ngeri bgt, anak buah...  Fear\n",
              "7                 ogeb bat dah pake sok sok an kaget  Fear\n",
              "8        plis nilai akm keluarnya lama banget, takut  Fear\n",
              "9            mau ikut esd aja telat, trus takut flop  Fear"
            ],
            "text/html": [
              "\n",
              "  <div id=\"df-057bc3bc-d527-4e78-899c-fa6e1097a0b7\">\n",
              "    <div class=\"colab-df-container\">\n",
              "      <div>\n",
              "<style scoped>\n",
              "    .dataframe tbody tr th:only-of-type {\n",
              "        vertical-align: middle;\n",
              "    }\n",
              "\n",
              "    .dataframe tbody tr th {\n",
              "        vertical-align: top;\n",
              "    }\n",
              "\n",
              "    .dataframe thead th {\n",
              "        text-align: right;\n",
              "    }\n",
              "</style>\n",
              "<table border=\"1\" class=\"dataframe\">\n",
              "  <thead>\n",
              "    <tr style=\"text-align: right;\">\n",
              "      <th></th>\n",
              "      <th>Tweet</th>\n",
              "      <th>Label</th>\n",
              "    </tr>\n",
              "  </thead>\n",
              "  <tbody>\n",
              "    <tr>\n",
              "      <th>0</th>\n",
              "      <td>trs barusan dia reach out aku trs minta tolong...</td>\n",
              "      <td>Fear</td>\n",
              "    </tr>\n",
              "    <tr>\n",
              "      <th>1</th>\n",
              "      <td>sumpah ini receh bgt dan not bts related. cm j...</td>\n",
              "      <td>Fear</td>\n",
              "    </tr>\n",
              "    <tr>\n",
              "      <th>2</th>\n",
              "      <td>ragu utk bisa beli barang tu karn harganya bis...</td>\n",
              "      <td>Fear</td>\n",
              "    </tr>\n",
              "    <tr>\n",
              "      <th>3</th>\n",
              "      <td>bisa gak sih langsung tanggal 11 aja gausah ad...</td>\n",
              "      <td>Fear</td>\n",
              "    </tr>\n",
              "    <tr>\n",
              "      <th>4</th>\n",
              "      <td>iya kaan yg lain suka pada coba pd gpp tp tete...</td>\n",
              "      <td>Fear</td>\n",
              "    </tr>\n",
              "    <tr>\n",
              "      <th>5</th>\n",
              "      <td>eh sumpah gw takut bangett. serem bangett itu ...</td>\n",
              "      <td>Fear</td>\n",
              "    </tr>\n",
              "    <tr>\n",
              "      <th>6</th>\n",
              "      <td>namnjim lag like like nya ngeri bgt, anak buah...</td>\n",
              "      <td>Fear</td>\n",
              "    </tr>\n",
              "    <tr>\n",
              "      <th>7</th>\n",
              "      <td>ogeb bat dah pake sok sok an kaget</td>\n",
              "      <td>Fear</td>\n",
              "    </tr>\n",
              "    <tr>\n",
              "      <th>8</th>\n",
              "      <td>plis nilai akm keluarnya lama banget, takut</td>\n",
              "      <td>Fear</td>\n",
              "    </tr>\n",
              "    <tr>\n",
              "      <th>9</th>\n",
              "      <td>mau ikut esd aja telat, trus takut flop</td>\n",
              "      <td>Fear</td>\n",
              "    </tr>\n",
              "  </tbody>\n",
              "</table>\n",
              "</div>\n",
              "      <button class=\"colab-df-convert\" onclick=\"convertToInteractive('df-057bc3bc-d527-4e78-899c-fa6e1097a0b7')\"\n",
              "              title=\"Convert this dataframe to an interactive table.\"\n",
              "              style=\"display:none;\">\n",
              "        \n",
              "  <svg xmlns=\"http://www.w3.org/2000/svg\" height=\"24px\"viewBox=\"0 0 24 24\"\n",
              "       width=\"24px\">\n",
              "    <path d=\"M0 0h24v24H0V0z\" fill=\"none\"/>\n",
              "    <path d=\"M18.56 5.44l.94 2.06.94-2.06 2.06-.94-2.06-.94-.94-2.06-.94 2.06-2.06.94zm-11 1L8.5 8.5l.94-2.06 2.06-.94-2.06-.94L8.5 2.5l-.94 2.06-2.06.94zm10 10l.94 2.06.94-2.06 2.06-.94-2.06-.94-.94-2.06-.94 2.06-2.06.94z\"/><path d=\"M17.41 7.96l-1.37-1.37c-.4-.4-.92-.59-1.43-.59-.52 0-1.04.2-1.43.59L10.3 9.45l-7.72 7.72c-.78.78-.78 2.05 0 2.83L4 21.41c.39.39.9.59 1.41.59.51 0 1.02-.2 1.41-.59l7.78-7.78 2.81-2.81c.8-.78.8-2.07 0-2.86zM5.41 20L4 18.59l7.72-7.72 1.47 1.35L5.41 20z\"/>\n",
              "  </svg>\n",
              "      </button>\n",
              "      \n",
              "  <style>\n",
              "    .colab-df-container {\n",
              "      display:flex;\n",
              "      flex-wrap:wrap;\n",
              "      gap: 12px;\n",
              "    }\n",
              "\n",
              "    .colab-df-convert {\n",
              "      background-color: #E8F0FE;\n",
              "      border: none;\n",
              "      border-radius: 50%;\n",
              "      cursor: pointer;\n",
              "      display: none;\n",
              "      fill: #1967D2;\n",
              "      height: 32px;\n",
              "      padding: 0 0 0 0;\n",
              "      width: 32px;\n",
              "    }\n",
              "\n",
              "    .colab-df-convert:hover {\n",
              "      background-color: #E2EBFA;\n",
              "      box-shadow: 0px 1px 2px rgba(60, 64, 67, 0.3), 0px 1px 3px 1px rgba(60, 64, 67, 0.15);\n",
              "      fill: #174EA6;\n",
              "    }\n",
              "\n",
              "    [theme=dark] .colab-df-convert {\n",
              "      background-color: #3B4455;\n",
              "      fill: #D2E3FC;\n",
              "    }\n",
              "\n",
              "    [theme=dark] .colab-df-convert:hover {\n",
              "      background-color: #434B5C;\n",
              "      box-shadow: 0px 1px 3px 1px rgba(0, 0, 0, 0.15);\n",
              "      filter: drop-shadow(0px 1px 2px rgba(0, 0, 0, 0.3));\n",
              "      fill: #FFFFFF;\n",
              "    }\n",
              "  </style>\n",
              "\n",
              "      <script>\n",
              "        const buttonEl =\n",
              "          document.querySelector('#df-057bc3bc-d527-4e78-899c-fa6e1097a0b7 button.colab-df-convert');\n",
              "        buttonEl.style.display =\n",
              "          google.colab.kernel.accessAllowed ? 'block' : 'none';\n",
              "\n",
              "        async function convertToInteractive(key) {\n",
              "          const element = document.querySelector('#df-057bc3bc-d527-4e78-899c-fa6e1097a0b7');\n",
              "          const dataTable =\n",
              "            await google.colab.kernel.invokeFunction('convertToInteractive',\n",
              "                                                     [key], {});\n",
              "          if (!dataTable) return;\n",
              "\n",
              "          const docLinkHtml = 'Like what you see? Visit the ' +\n",
              "            '<a target=\"_blank\" href=https://colab.research.google.com/notebooks/data_table.ipynb>data table notebook</a>'\n",
              "            + ' to learn more about interactive tables.';\n",
              "          element.innerHTML = '';\n",
              "          dataTable['output_type'] = 'display_data';\n",
              "          await google.colab.output.renderOutput(dataTable, element);\n",
              "          const docLink = document.createElement('div');\n",
              "          docLink.innerHTML = docLinkHtml;\n",
              "          element.appendChild(docLink);\n",
              "        }\n",
              "      </script>\n",
              "    </div>\n",
              "  </div>\n",
              "  "
            ]
          },
          "metadata": {},
          "execution_count": 8
        }
      ]
    },
    {
      "cell_type": "code",
      "source": [
        "sample_df.Label.value_counts()"
      ],
      "metadata": {
        "colab": {
          "base_uri": "https://localhost:8080/"
        },
        "id": "gbgwdLlzqQUm",
        "outputId": "db7c46b5-ee97-4852-eaf4-1afc3176abbd"
      },
      "execution_count": 9,
      "outputs": [
        {
          "output_type": "execute_result",
          "data": {
            "text/plain": [
              "Neutral    2001\n",
              "Joy        1275\n",
              "Anger      1130\n",
              "Sad        1003\n",
              "Fear        911\n",
              "Love        760\n",
              "Name: Label, dtype: int64"
            ]
          },
          "metadata": {},
          "execution_count": 9
        }
      ]
    },
    {
      "cell_type": "code",
      "source": [
        "import matplotlib.pyplot as plt\n",
        "import seaborn as sns\n",
        "plt.figure(figsize=(15,8))\n",
        "plt.title('Distibusi Tweet', fontsize=20)\n",
        "\n",
        "distribusi_tweet = sample_df['Label'].value_counts().sort_values()\n",
        "sns.barplot(x=list(distribusi_tweet.keys()),\n",
        "            y=distribusi_tweet.values)\n"
      ],
      "metadata": {
        "colab": {
          "base_uri": "https://localhost:8080/",
          "height": 521
        },
        "id": "LZ13cWKdtZpm",
        "outputId": "6cc427a3-f2b2-469f-c4bd-c6e83ec5ef6a"
      },
      "execution_count": 10,
      "outputs": [
        {
          "output_type": "execute_result",
          "data": {
            "text/plain": [
              "<matplotlib.axes._subplots.AxesSubplot at 0x7f04327b35e0>"
            ]
          },
          "metadata": {},
          "execution_count": 10
        },
        {
          "output_type": "display_data",
          "data": {
            "text/plain": [
              "<Figure size 1080x576 with 1 Axes>"
            ],
            "image/png": "[encoded data removed]"
          },
          "metadata": {
            "needs_background": "light"
          }
        }
      ]
    },
    {
      "cell_type": "code",
      "source": [
        "sample_df['Panjang_tweet']= [len(tweet) for tweet in sample_df.Tweet]\n",
        "\n",
        "sample_df['Jumlah_kalimat'] = [len(tweet.split()) for tweet in sample_df.Tweet]\n",
        "\n",
        "sample_df.head()"
      ],
      "metadata": {
        "colab": {
          "base_uri": "https://localhost:8080/",
          "height": 206
        },
        "id": "huus8cgNDHEW",
        "outputId": "57a8a6db-b5d4-4985-dc18-c0c762a33b2a"
      },
      "execution_count": 11,
      "outputs": [
        {
          "output_type": "execute_result",
          "data": {
            "text/plain": [
              "                                               Tweet Label  Panjang_tweet  \\\n",
              "0  trs barusan dia reach out aku trs minta tolong...  Fear            122   \n",
              "1  sumpah ini receh bgt dan not bts related. cm j...  Fear            272   \n",
              "2  ragu utk bisa beli barang tu karn harganya bis...  Fear             68   \n",
              "3  bisa gak sih langsung tanggal 11 aja gausah ad...  Fear             92   \n",
              "4  iya kaan yg lain suka pada coba pd gpp tp tete...  Fear             58   \n",
              "\n",
              "   Jumlah_kalimat  \n",
              "0              22  \n",
              "1              48  \n",
              "2              12  \n",
              "3              18  \n",
              "4              13  "
            ],
            "text/html": [
              "\n",
              "  <div id=\"df-5393bf13-b2eb-4ca2-8249-1f4b50fbf472\">\n",
              "    <div class=\"colab-df-container\">\n",
              "      <div>\n",
              "<style scoped>\n",
              "    .dataframe tbody tr th:only-of-type {\n",
              "        vertical-align: middle;\n",
              "    }\n",
              "\n",
              "    .dataframe tbody tr th {\n",
              "        vertical-align: top;\n",
              "    }\n",
              "\n",
              "    .dataframe thead th {\n",
              "        text-align: right;\n",
              "    }\n",
              "</style>\n",
              "<table border=\"1\" class=\"dataframe\">\n",
              "  <thead>\n",
              "    <tr style=\"text-align: right;\">\n",
              "      <th></th>\n",
              "      <th>Tweet</th>\n",
              "      <th>Label</th>\n",
              "      <th>Panjang_tweet</th>\n",
              "      <th>Jumlah_kalimat</th>\n",
              "    </tr>\n",
              "  </thead>\n",
              "  <tbody>\n",
              "    <tr>\n",
              "      <th>0</th>\n",
              "      <td>trs barusan dia reach out aku trs minta tolong...</td>\n",
              "      <td>Fear</td>\n",
              "      <td>122</td>\n",
              "      <td>22</td>\n",
              "    </tr>\n",
              "    <tr>\n",
              "      <th>1</th>\n",
              "      <td>sumpah ini receh bgt dan not bts related. cm j...</td>\n",
              "      <td>Fear</td>\n",
              "      <td>272</td>\n",
              "      <td>48</td>\n",
              "    </tr>\n",
              "    <tr>\n",
              "      <th>2</th>\n",
              "      <td>ragu utk bisa beli barang tu karn harganya bis...</td>\n",
              "      <td>Fear</td>\n",
              "      <td>68</td>\n",
              "      <td>12</td>\n",
              "    </tr>\n",
              "    <tr>\n",
              "      <th>3</th>\n",
              "      <td>bisa gak sih langsung tanggal 11 aja gausah ad...</td>\n",
              "      <td>Fear</td>\n",
              "      <td>92</td>\n",
              "      <td>18</td>\n",
              "    </tr>\n",
              "    <tr>\n",
              "      <th>4</th>\n",
              "      <td>iya kaan yg lain suka pada coba pd gpp tp tete...</td>\n",
              "      <td>Fear</td>\n",
              "      <td>58</td>\n",
              "      <td>13</td>\n",
              "    </tr>\n",
              "  </tbody>\n",
              "</table>\n",
              "</div>\n",
              "      <button class=\"colab-df-convert\" onclick=\"convertToInteractive('df-5393bf13-b2eb-4ca2-8249-1f4b50fbf472')\"\n",
              "              title=\"Convert this dataframe to an interactive table.\"\n",
              "              style=\"display:none;\">\n",
              "        \n",
              "  <svg xmlns=\"http://www.w3.org/2000/svg\" height=\"24px\"viewBox=\"0 0 24 24\"\n",
              "       width=\"24px\">\n",
              "    <path d=\"M0 0h24v24H0V0z\" fill=\"none\"/>\n",
              "    <path d=\"M18.56 5.44l.94 2.06.94-2.06 2.06-.94-2.06-.94-.94-2.06-.94 2.06-2.06.94zm-11 1L8.5 8.5l.94-2.06 2.06-.94-2.06-.94L8.5 2.5l-.94 2.06-2.06.94zm10 10l.94 2.06.94-2.06 2.06-.94-2.06-.94-.94-2.06-.94 2.06-2.06.94z\"/><path d=\"M17.41 7.96l-1.37-1.37c-.4-.4-.92-.59-1.43-.59-.52 0-1.04.2-1.43.59L10.3 9.45l-7.72 7.72c-.78.78-.78 2.05 0 2.83L4 21.41c.39.39.9.59 1.41.59.51 0 1.02-.2 1.41-.59l7.78-7.78 2.81-2.81c.8-.78.8-2.07 0-2.86zM5.41 20L4 18.59l7.72-7.72 1.47 1.35L5.41 20z\"/>\n",
              "  </svg>\n",
              "      </button>\n",
              "      \n",
              "  <style>\n",
              "    .colab-df-container {\n",
              "      display:flex;\n",
              "      flex-wrap:wrap;\n",
              "      gap: 12px;\n",
              "    }\n",
              "\n",
              "    .colab-df-convert {\n",
              "      background-color: #E8F0FE;\n",
              "      border: none;\n",
              "      border-radius: 50%;\n",
              "      cursor: pointer;\n",
              "      display: none;\n",
              "      fill: #1967D2;\n",
              "      height: 32px;\n",
              "      padding: 0 0 0 0;\n",
              "      width: 32px;\n",
              "    }\n",
              "\n",
              "    .colab-df-convert:hover {\n",
              "      background-color: #E2EBFA;\n",
              "      box-shadow: 0px 1px 2px rgba(60, 64, 67, 0.3), 0px 1px 3px 1px rgba(60, 64, 67, 0.15);\n",
              "      fill: #174EA6;\n",
              "    }\n",
              "\n",
              "    [theme=dark] .colab-df-convert {\n",
              "      background-color: #3B4455;\n",
              "      fill: #D2E3FC;\n",
              "    }\n",
              "\n",
              "    [theme=dark] .colab-df-convert:hover {\n",
              "      background-color: #434B5C;\n",
              "      box-shadow: 0px 1px 3px 1px rgba(0, 0, 0, 0.15);\n",
              "      filter: drop-shadow(0px 1px 2px rgba(0, 0, 0, 0.3));\n",
              "      fill: #FFFFFF;\n",
              "    }\n",
              "  </style>\n",
              "\n",
              "      <script>\n",
              "        const buttonEl =\n",
              "          document.querySelector('#df-5393bf13-b2eb-4ca2-8249-1f4b50fbf472 button.colab-df-convert');\n",
              "        buttonEl.style.display =\n",
              "          google.colab.kernel.accessAllowed ? 'block' : 'none';\n",
              "\n",
              "        async function convertToInteractive(key) {\n",
              "          const element = document.querySelector('#df-5393bf13-b2eb-4ca2-8249-1f4b50fbf472');\n",
              "          const dataTable =\n",
              "            await google.colab.kernel.invokeFunction('convertToInteractive',\n",
              "                                                     [key], {});\n",
              "          if (!dataTable) return;\n",
              "\n",
              "          const docLinkHtml = 'Like what you see? Visit the ' +\n",
              "            '<a target=\"_blank\" href=https://colab.research.google.com/notebooks/data_table.ipynb>data table notebook</a>'\n",
              "            + ' to learn more about interactive tables.';\n",
              "          element.innerHTML = '';\n",
              "          dataTable['output_type'] = 'display_data';\n",
              "          await google.colab.output.renderOutput(dataTable, element);\n",
              "          const docLink = document.createElement('div');\n",
              "          docLink.innerHTML = docLinkHtml;\n",
              "          element.appendChild(docLink);\n",
              "        }\n",
              "      </script>\n",
              "    </div>\n",
              "  </div>\n",
              "  "
            ]
          },
          "metadata": {},
          "execution_count": 11
        }
      ]
    },
    {
      "cell_type": "code",
      "source": [
        "sns.boxplot(data=sample_df[[\"Panjang_tweet\", \"Jumlah_kalimat\"]],orient='h')"
      ],
      "metadata": {
        "colab": {
          "base_uri": "https://localhost:8080/",
          "height": 282
        },
        "id": "SK6UC04hQPW1",
        "outputId": "5422227b-8446-4445-ec2a-fcef13a2c48f"
      },
      "execution_count": 12,
      "outputs": [
        {
          "output_type": "execute_result",
          "data": {
            "text/plain": [
              "<matplotlib.axes._subplots.AxesSubplot at 0x7f045c667dc0>"
            ]
          },
          "metadata": {},
          "execution_count": 12
        },
        {
          "output_type": "display_data",
          "data": {
            "text/plain": [
              "<Figure size 432x288 with 1 Axes>"
            ],
            "image/png": "[encoded data removed]"
          },
          "metadata": {
            "needs_background": "light"
          }
        }
      ]
    },
    {
      "cell_type": "code",
      "source": [
        "print('Panjang Tweet Deskripsi')\n",
        "print('==================================')\n",
        "print(sample_df['Panjang_tweet'].describe())\n",
        "print('==================================')"
      ],
      "metadata": {
        "colab": {
          "base_uri": "https://localhost:8080/"
        },
        "id": "8EqgZhNKTydS",
        "outputId": "2bf02714-914d-4b45-8052-21258499b5bc"
      },
      "execution_count": 13,
      "outputs": [
        {
          "output_type": "stream",
          "name": "stdout",
          "text": [
            "Panjang Tweet Deskripsi\n",
            "==================================\n",
            "count    7080.000000\n",
            "mean       99.505085\n",
            "std        81.671417\n",
            "min         4.000000\n",
            "25%        38.000000\n",
            "50%        74.000000\n",
            "75%       141.000000\n",
            "max      2097.000000\n",
            "Name: Panjang_tweet, dtype: float64\n",
            "==================================\n"
          ]
        }
      ]
    },
    {
      "cell_type": "code",
      "source": [
        "print('Jumlah kalimat Deskripsi')\n",
        "print('==================================')\n",
        "print(sample_df['Jumlah_kalimat'].describe())\n",
        "print('==================================')"
      ],
      "metadata": {
        "colab": {
          "base_uri": "https://localhost:8080/"
        },
        "id": "WrOubbpUUDp_",
        "outputId": "6f892c93-d255-4c88-8899-28ba4f715a9e"
      },
      "execution_count": 14,
      "outputs": [
        {
          "output_type": "stream",
          "name": "stdout",
          "text": [
            "Jumlah kalimat Deskripsi\n",
            "==================================\n",
            "count    7080.000000\n",
            "mean       16.760734\n",
            "std        13.588522\n",
            "min         1.000000\n",
            "25%         7.000000\n",
            "50%        13.000000\n",
            "75%        24.000000\n",
            "max       356.000000\n",
            "Name: Jumlah_kalimat, dtype: float64\n",
            "==================================\n"
          ]
        }
      ]
    },
    {
      "cell_type": "code",
      "source": [
        "fig, (ax1,ax2) = plt.subplots(2, figsize=(14,10))\n",
        "\n",
        "#set spacing tiap plot\n",
        "fig.tight_layout(pad=6)\n",
        "\n",
        "#Plot panjang twit tiap Label\n",
        "ax1.set_title('Panjang Tweet setiap Label', fontsize=20)\n",
        "sns.barplot(data=sample_df,x='Panjang_tweet', y='Label',\n",
        "            orient='h',\n",
        "            ax=ax1)\n",
        "\n",
        "#Plot Jumlah kalimat tiap label\n",
        "ax2.set_title('Jumlah Kalimat setiiap Label',fontsize=20)\n",
        "sns.barplot(data=sample_df, x='Jumlah_kalimat', y='Label',\n",
        "            orient='h',\n",
        "            ax=ax2)"
      ],
      "metadata": {
        "colab": {
          "base_uri": "https://localhost:8080/",
          "height": 680
        },
        "id": "2tGwKHscUYW9",
        "outputId": "333ca037-0a27-4026-e828-36823563a0e4"
      },
      "execution_count": 20,
      "outputs": [
        {
          "output_type": "execute_result",
          "data": {
            "text/plain": [
              "<matplotlib.axes._subplots.AxesSubplot at 0x7f042b238bb0>"
            ]
          },
          "metadata": {},
          "execution_count": 20
        },
        {
          "output_type": "display_data",
          "data": {
            "text/plain": [
              "<Figure size 1008x720 with 2 Axes>"
            ],
            "image/png": "[encoded data removed]"
          },
          "metadata": {
            "needs_background": "light"
          }
        }
      ]
    },
    {
      "cell_type": "code",
      "source": [
        "#Familiar dengan dataset\n",
        "import random\n",
        "random_index = random.randint(0,len(sample_df)-5)\n",
        "for row in sample_df[['Tweet', 'Label']][random_index:random_index+5].itertuples():\n",
        "  _,tweet, label = row\n",
        "  print(f'Sentiment {label}')\n",
        "  print(f'Tweet : \\n {tweet} \\n')\n",
        "  print(f'---\\n')"
      ],
      "metadata": {
        "colab": {
          "base_uri": "https://localhost:8080/"
        },
        "id": "mM4mtaOiY0Bu",
        "outputId": "eb9b07de-01a5-4629-b3e0-f1d52fc0db52"
      },
      "execution_count": 35,
      "outputs": [
        {
          "output_type": "stream",
          "name": "stdout",
          "text": [
            "Sentiment Neutral\n",
            "Tweet : \n",
            " tidur normal, gk begadang liat mu membuat hidup lebih bahagia \n",
            "\n",
            "---\n",
            "\n",
            "Sentiment Neutral\n",
            "Tweet : \n",
            " orang priveleged je rasa air evian tu biasa-biasa. tak semahal yang lain. \n",
            "\n",
            "---\n",
            "\n",
            "Sentiment Neutral\n",
            "Tweet : \n",
            " menghayal menunggu tiba masanya dimana penyakit covid setara dengan masuk angin biasa dan diobati cukup dengan minum antagin atau kerokan. sambil menunggu masa itu tiba tetap jaga kesehatan dan jaga diri ya. masker vaksin serta taat prokes masih jadi solusi terbaik. \n",
            "\n",
            "---\n",
            "\n",
            "Sentiment Neutral\n",
            "Tweet : \n",
            " mrk ga akan pernah telusuri dg tuntas makna kisah dan ayat alquran yg disampaikan. spt biasa ambil sepotong ayat lalu sebarkan demi menjelek2an ajaran islam. \n",
            "\n",
            "---\n",
            "\n",
            "Sentiment Neutral\n",
            "Tweet : \n",
            " boleh dong. aku jg biasa sore \n",
            "\n",
            "---\n",
            "\n"
          ]
        }
      ]
    },
    {
      "cell_type": "code",
      "source": [
        "#save dataframe to csv\n",
        "sample_df.to_csv('Dataset.csv')"
      ],
      "metadata": {
        "id": "fjbQ9sGncrBO"
      },
      "execution_count": 37,
      "outputs": []
    },
    {
      "cell_type": "code",
      "source": [],
      "metadata": {
        "id": "sBgBwNMgdba0"
      },
      "execution_count": null,
      "outputs": []
    }
  ]
}